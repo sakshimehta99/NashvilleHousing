{
  "nbformat": 4,
  "nbformat_minor": 0,
  "metadata": {
    "colab": {
      "provenance": []
    },
    "kernelspec": {
      "name": "python3",
      "display_name": "Python 3"
    },
    "language_info": {
      "name": "python"
    }
  },
  "cells": [
    {
      "cell_type": "markdown",
      "source": [
        "# **Nashville Housing Dataset**"
      ],
      "metadata": {
        "id": "7BSfecA_tapZ"
      }
    },
    {
      "cell_type": "code",
      "execution_count": 1,
      "metadata": {
        "id": "N0G5ovRVSTVh"
      },
      "outputs": [],
      "source": [
        "# Importing the required libraries\n",
        "import pandas as pd\n",
        "import numpy as np\n",
        "import warnings\n",
        "warnings.filterwarnings('ignore')\n"
      ]
    },
    {
      "cell_type": "code",
      "source": [
        "# importing the dataset\n",
        "\n",
        "data = pd.read_csv(\"/content/week 4 - Nashville_housing_data.csv\")\n",
        "print(\"The shape of the dataset:\",data.shape)"
      ],
      "metadata": {
        "colab": {
          "base_uri": "https://localhost:8080/"
        },
        "id": "JM2rNXPKStTF",
        "outputId": "65e1160e-2784-417f-ee0a-8f3139a29b87"
      },
      "execution_count": 2,
      "outputs": [
        {
          "output_type": "stream",
          "name": "stdout",
          "text": [
            "The shape of the dataset: (22651, 26)\n"
          ]
        }
      ]
    },
    {
      "cell_type": "code",
      "source": [
        "# Getting a view of the raw dataset\n",
        "\n",
        "data.head(4)"
      ],
      "metadata": {
        "colab": {
          "base_uri": "https://localhost:8080/",
          "height": 370
        },
        "id": "9Hn9tFHke1vc",
        "outputId": "c6bb8fcb-d4e9-4b82-ed79-5dfa77dcd5f3"
      },
      "execution_count": 3,
      "outputs": [
        {
          "output_type": "execute_result",
          "data": {
            "text/plain": [
              "   Unnamed: 0        Parcel ID       Land Use   Property Address  \\\n",
              "0           1  105 11 0 080.00  SINGLE FAMILY   1802  STEWART PL   \n",
              "1           2  118 03 0 130.00  SINGLE FAMILY  2761  ROSEDALE PL   \n",
              "2           3  119 01 0 479.00  SINGLE FAMILY  224  PEACHTREE ST   \n",
              "3           4  119 05 0 186.00  SINGLE FAMILY      316  LUTIE ST   \n",
              "\n",
              "   Suite/ Condo   # Property City  Sale Date   Legal Reference Sold As Vacant  \\\n",
              "0               NaN     NASHVILLE  1/11/2013  20130118-0006337             No   \n",
              "1               NaN     NASHVILLE  1/18/2013  20130124-0008033             No   \n",
              "2               NaN     NASHVILLE  1/18/2013  20130128-0008863             No   \n",
              "3               NaN     NASHVILLE  1/23/2013  20130131-0009929             No   \n",
              "\n",
              "  Multiple Parcels Involved in Sale  ... Building Value Finished Area  \\\n",
              "0                                No  ...         134400    1149.00000   \n",
              "1                                No  ...         157800    2090.82495   \n",
              "2                                No  ...         243700    2145.60001   \n",
              "3                                No  ...         138100    1969.00000   \n",
              "\n",
              "   Foundation Type Year Built  Exterior Wall  Grade  Bedrooms  Full Bath  \\\n",
              "0          PT BSMT       1941          BRICK   C          2.0        1.0   \n",
              "1             SLAB       2000    BRICK/FRAME   C          3.0        2.0   \n",
              "2        FULL BSMT       1948    BRICK/FRAME   B          4.0        2.0   \n",
              "3            CRAWL       1910          FRAME   C          2.0        1.0   \n",
              "\n",
              "  Half Bath  Sale Price Compared To Value  \n",
              "0       0.0                          Over  \n",
              "1       1.0                          Over  \n",
              "2       0.0                         Under  \n",
              "3       0.0                         Under  \n",
              "\n",
              "[4 rows x 26 columns]"
            ],
            "text/html": [
              "\n",
              "  <div id=\"df-e70149b2-e783-4651-bdd5-ba0b1e3f971e\">\n",
              "    <div class=\"colab-df-container\">\n",
              "      <div>\n",
              "<style scoped>\n",
              "    .dataframe tbody tr th:only-of-type {\n",
              "        vertical-align: middle;\n",
              "    }\n",
              "\n",
              "    .dataframe tbody tr th {\n",
              "        vertical-align: top;\n",
              "    }\n",
              "\n",
              "    .dataframe thead th {\n",
              "        text-align: right;\n",
              "    }\n",
              "</style>\n",
              "<table border=\"1\" class=\"dataframe\">\n",
              "  <thead>\n",
              "    <tr style=\"text-align: right;\">\n",
              "      <th></th>\n",
              "      <th>Unnamed: 0</th>\n",
              "      <th>Parcel ID</th>\n",
              "      <th>Land Use</th>\n",
              "      <th>Property Address</th>\n",
              "      <th>Suite/ Condo   #</th>\n",
              "      <th>Property City</th>\n",
              "      <th>Sale Date</th>\n",
              "      <th>Legal Reference</th>\n",
              "      <th>Sold As Vacant</th>\n",
              "      <th>Multiple Parcels Involved in Sale</th>\n",
              "      <th>...</th>\n",
              "      <th>Building Value</th>\n",
              "      <th>Finished Area</th>\n",
              "      <th>Foundation Type</th>\n",
              "      <th>Year Built</th>\n",
              "      <th>Exterior Wall</th>\n",
              "      <th>Grade</th>\n",
              "      <th>Bedrooms</th>\n",
              "      <th>Full Bath</th>\n",
              "      <th>Half Bath</th>\n",
              "      <th>Sale Price Compared To Value</th>\n",
              "    </tr>\n",
              "  </thead>\n",
              "  <tbody>\n",
              "    <tr>\n",
              "      <th>0</th>\n",
              "      <td>1</td>\n",
              "      <td>105 11 0 080.00</td>\n",
              "      <td>SINGLE FAMILY</td>\n",
              "      <td>1802  STEWART PL</td>\n",
              "      <td>NaN</td>\n",
              "      <td>NASHVILLE</td>\n",
              "      <td>1/11/2013</td>\n",
              "      <td>20130118-0006337</td>\n",
              "      <td>No</td>\n",
              "      <td>No</td>\n",
              "      <td>...</td>\n",
              "      <td>134400</td>\n",
              "      <td>1149.00000</td>\n",
              "      <td>PT BSMT</td>\n",
              "      <td>1941</td>\n",
              "      <td>BRICK</td>\n",
              "      <td>C</td>\n",
              "      <td>2.0</td>\n",
              "      <td>1.0</td>\n",
              "      <td>0.0</td>\n",
              "      <td>Over</td>\n",
              "    </tr>\n",
              "    <tr>\n",
              "      <th>1</th>\n",
              "      <td>2</td>\n",
              "      <td>118 03 0 130.00</td>\n",
              "      <td>SINGLE FAMILY</td>\n",
              "      <td>2761  ROSEDALE PL</td>\n",
              "      <td>NaN</td>\n",
              "      <td>NASHVILLE</td>\n",
              "      <td>1/18/2013</td>\n",
              "      <td>20130124-0008033</td>\n",
              "      <td>No</td>\n",
              "      <td>No</td>\n",
              "      <td>...</td>\n",
              "      <td>157800</td>\n",
              "      <td>2090.82495</td>\n",
              "      <td>SLAB</td>\n",
              "      <td>2000</td>\n",
              "      <td>BRICK/FRAME</td>\n",
              "      <td>C</td>\n",
              "      <td>3.0</td>\n",
              "      <td>2.0</td>\n",
              "      <td>1.0</td>\n",
              "      <td>Over</td>\n",
              "    </tr>\n",
              "    <tr>\n",
              "      <th>2</th>\n",
              "      <td>3</td>\n",
              "      <td>119 01 0 479.00</td>\n",
              "      <td>SINGLE FAMILY</td>\n",
              "      <td>224  PEACHTREE ST</td>\n",
              "      <td>NaN</td>\n",
              "      <td>NASHVILLE</td>\n",
              "      <td>1/18/2013</td>\n",
              "      <td>20130128-0008863</td>\n",
              "      <td>No</td>\n",
              "      <td>No</td>\n",
              "      <td>...</td>\n",
              "      <td>243700</td>\n",
              "      <td>2145.60001</td>\n",
              "      <td>FULL BSMT</td>\n",
              "      <td>1948</td>\n",
              "      <td>BRICK/FRAME</td>\n",
              "      <td>B</td>\n",
              "      <td>4.0</td>\n",
              "      <td>2.0</td>\n",
              "      <td>0.0</td>\n",
              "      <td>Under</td>\n",
              "    </tr>\n",
              "    <tr>\n",
              "      <th>3</th>\n",
              "      <td>4</td>\n",
              "      <td>119 05 0 186.00</td>\n",
              "      <td>SINGLE FAMILY</td>\n",
              "      <td>316  LUTIE ST</td>\n",
              "      <td>NaN</td>\n",
              "      <td>NASHVILLE</td>\n",
              "      <td>1/23/2013</td>\n",
              "      <td>20130131-0009929</td>\n",
              "      <td>No</td>\n",
              "      <td>No</td>\n",
              "      <td>...</td>\n",
              "      <td>138100</td>\n",
              "      <td>1969.00000</td>\n",
              "      <td>CRAWL</td>\n",
              "      <td>1910</td>\n",
              "      <td>FRAME</td>\n",
              "      <td>C</td>\n",
              "      <td>2.0</td>\n",
              "      <td>1.0</td>\n",
              "      <td>0.0</td>\n",
              "      <td>Under</td>\n",
              "    </tr>\n",
              "  </tbody>\n",
              "</table>\n",
              "<p>4 rows × 26 columns</p>\n",
              "</div>\n",
              "      <button class=\"colab-df-convert\" onclick=\"convertToInteractive('df-e70149b2-e783-4651-bdd5-ba0b1e3f971e')\"\n",
              "              title=\"Convert this dataframe to an interactive table.\"\n",
              "              style=\"display:none;\">\n",
              "        \n",
              "  <svg xmlns=\"http://www.w3.org/2000/svg\" height=\"24px\"viewBox=\"0 0 24 24\"\n",
              "       width=\"24px\">\n",
              "    <path d=\"M0 0h24v24H0V0z\" fill=\"none\"/>\n",
              "    <path d=\"M18.56 5.44l.94 2.06.94-2.06 2.06-.94-2.06-.94-.94-2.06-.94 2.06-2.06.94zm-11 1L8.5 8.5l.94-2.06 2.06-.94-2.06-.94L8.5 2.5l-.94 2.06-2.06.94zm10 10l.94 2.06.94-2.06 2.06-.94-2.06-.94-.94-2.06-.94 2.06-2.06.94z\"/><path d=\"M17.41 7.96l-1.37-1.37c-.4-.4-.92-.59-1.43-.59-.52 0-1.04.2-1.43.59L10.3 9.45l-7.72 7.72c-.78.78-.78 2.05 0 2.83L4 21.41c.39.39.9.59 1.41.59.51 0 1.02-.2 1.41-.59l7.78-7.78 2.81-2.81c.8-.78.8-2.07 0-2.86zM5.41 20L4 18.59l7.72-7.72 1.47 1.35L5.41 20z\"/>\n",
              "  </svg>\n",
              "      </button>\n",
              "      \n",
              "  <style>\n",
              "    .colab-df-container {\n",
              "      display:flex;\n",
              "      flex-wrap:wrap;\n",
              "      gap: 12px;\n",
              "    }\n",
              "\n",
              "    .colab-df-convert {\n",
              "      background-color: #E8F0FE;\n",
              "      border: none;\n",
              "      border-radius: 50%;\n",
              "      cursor: pointer;\n",
              "      display: none;\n",
              "      fill: #1967D2;\n",
              "      height: 32px;\n",
              "      padding: 0 0 0 0;\n",
              "      width: 32px;\n",
              "    }\n",
              "\n",
              "    .colab-df-convert:hover {\n",
              "      background-color: #E2EBFA;\n",
              "      box-shadow: 0px 1px 2px rgba(60, 64, 67, 0.3), 0px 1px 3px 1px rgba(60, 64, 67, 0.15);\n",
              "      fill: #174EA6;\n",
              "    }\n",
              "\n",
              "    [theme=dark] .colab-df-convert {\n",
              "      background-color: #3B4455;\n",
              "      fill: #D2E3FC;\n",
              "    }\n",
              "\n",
              "    [theme=dark] .colab-df-convert:hover {\n",
              "      background-color: #434B5C;\n",
              "      box-shadow: 0px 1px 3px 1px rgba(0, 0, 0, 0.15);\n",
              "      filter: drop-shadow(0px 1px 2px rgba(0, 0, 0, 0.3));\n",
              "      fill: #FFFFFF;\n",
              "    }\n",
              "  </style>\n",
              "\n",
              "      <script>\n",
              "        const buttonEl =\n",
              "          document.querySelector('#df-e70149b2-e783-4651-bdd5-ba0b1e3f971e button.colab-df-convert');\n",
              "        buttonEl.style.display =\n",
              "          google.colab.kernel.accessAllowed ? 'block' : 'none';\n",
              "\n",
              "        async function convertToInteractive(key) {\n",
              "          const element = document.querySelector('#df-e70149b2-e783-4651-bdd5-ba0b1e3f971e');\n",
              "          const dataTable =\n",
              "            await google.colab.kernel.invokeFunction('convertToInteractive',\n",
              "                                                     [key], {});\n",
              "          if (!dataTable) return;\n",
              "\n",
              "          const docLinkHtml = 'Like what you see? Visit the ' +\n",
              "            '<a target=\"_blank\" href=https://colab.research.google.com/notebooks/data_table.ipynb>data table notebook</a>'\n",
              "            + ' to learn more about interactive tables.';\n",
              "          element.innerHTML = '';\n",
              "          dataTable['output_type'] = 'display_data';\n",
              "          await google.colab.output.renderOutput(dataTable, element);\n",
              "          const docLink = document.createElement('div');\n",
              "          docLink.innerHTML = docLinkHtml;\n",
              "          element.appendChild(docLink);\n",
              "        }\n",
              "      </script>\n",
              "    </div>\n",
              "  </div>\n",
              "  "
            ]
          },
          "metadata": {},
          "execution_count": 3
        }
      ]
    },
    {
      "cell_type": "code",
      "source": [
        "# Count of unique values in each column\n",
        "\n",
        "print(data.nunique())"
      ],
      "metadata": {
        "colab": {
          "base_uri": "https://localhost:8080/"
        },
        "id": "p2emKJ5yhEY0",
        "outputId": "df7f7421-18c2-48d7-bcf2-121f4f0f15ce"
      },
      "execution_count": 4,
      "outputs": [
        {
          "output_type": "stream",
          "name": "stdout",
          "text": [
            "Unnamed: 0                           22651\n",
            "Parcel ID                            19720\n",
            "Land Use                                 4\n",
            "Property Address                     20448\n",
            "Suite/ Condo   #                         0\n",
            "Property City                           10\n",
            "Sale Date                             1044\n",
            "Legal Reference                      22452\n",
            "Sold As Vacant                           2\n",
            "Multiple Parcels Involved in Sale        2\n",
            "City                                    10\n",
            "State                                    1\n",
            "Acreage                                407\n",
            "Tax District                             7\n",
            "Neighborhood                           189\n",
            "Land Value                             886\n",
            "Building Value                        4298\n",
            "Finished Area                         5955\n",
            "Foundation Type                          6\n",
            "Year Built                             125\n",
            "Exterior Wall                            9\n",
            "Grade                                   10\n",
            "Bedrooms                                12\n",
            "Full Bath                               11\n",
            "Half Bath                                4\n",
            "Sale Price Compared To Value             2\n",
            "dtype: int64\n"
          ]
        }
      ]
    },
    {
      "cell_type": "code",
      "source": [
        "# dropping unnecessary columns like(col having all the unique values, duplicate columns etc)\n",
        "data.drop(['Unnamed: 0','Parcel ID','Property Address','Suite/ Condo   #','Property City','Legal Reference','State','Neighborhood'],axis=1, inplace=True)"
      ],
      "metadata": {
        "id": "c9IWbnLxe53G"
      },
      "execution_count": 5,
      "outputs": []
    },
    {
      "cell_type": "code",
      "source": [
        "# Checking the missing values \n",
        "data.isnull().sum()"
      ],
      "metadata": {
        "colab": {
          "base_uri": "https://localhost:8080/"
        },
        "id": "xy1Nfa2xCTmT",
        "outputId": "fcbb4b39-ee67-46a9-c7f7-9b17c6068292"
      },
      "execution_count": 6,
      "outputs": [
        {
          "output_type": "execute_result",
          "data": {
            "text/plain": [
              "Land Use                               0\n",
              "Sale Date                              0\n",
              "Sold As Vacant                         0\n",
              "Multiple Parcels Involved in Sale      0\n",
              "City                                   0\n",
              "Acreage                                0\n",
              "Tax District                           0\n",
              "Land Value                             0\n",
              "Building Value                         0\n",
              "Finished Area                          1\n",
              "Foundation Type                        1\n",
              "Year Built                             0\n",
              "Exterior Wall                          0\n",
              "Grade                                  0\n",
              "Bedrooms                               3\n",
              "Full Bath                              1\n",
              "Half Bath                            108\n",
              "Sale Price Compared To Value           0\n",
              "dtype: int64"
            ]
          },
          "metadata": {},
          "execution_count": 6
        }
      ]
    },
    {
      "cell_type": "code",
      "source": [
        "# Checking the distribution of \"Finished Area\" column\n",
        "data['Finished Area'].plot(kind='kde')\n"
      ],
      "metadata": {
        "colab": {
          "base_uri": "https://localhost:8080/",
          "height": 283
        },
        "id": "ZNohsWjEHIj5",
        "outputId": "668c9910-4a4e-4883-b0ae-12c80c0f65c7"
      },
      "execution_count": 7,
      "outputs": [
        {
          "output_type": "execute_result",
          "data": {
            "text/plain": [
              "<matplotlib.axes._subplots.AxesSubplot at 0x7f6c3e2a5ca0>"
            ]
          },
          "metadata": {},
          "execution_count": 7
        },
        {
          "output_type": "display_data",
          "data": {
            "text/plain": [
              "<Figure size 432x288 with 1 Axes>"
            ],
            "image/png": "[encoded data removed]"
          },
          "metadata": {
            "needs_background": "light"
          }
        }
      ]
    },
    {
      "cell_type": "code",
      "source": [
        "# Replacing the missing value of \"Finished Area\" with mean value\n",
        "mean_value=data['Finished Area'].mean()\n",
        "data['Finished Area'].fillna(value=mean_value, inplace=True)"
      ],
      "metadata": {
        "id": "rrEUXD0bGlcr"
      },
      "execution_count": 8,
      "outputs": []
    },
    {
      "cell_type": "code",
      "source": [
        "# Replacing the missing value of \"Half Bath\" with mode value\n",
        "data['Half Bath'] = data['Half Bath'].fillna(data['Half Bath'].mode()[0])"
      ],
      "metadata": {
        "id": "8_4PSnUbXdwD"
      },
      "execution_count": 9,
      "outputs": []
    },
    {
      "cell_type": "code",
      "source": [
        "# Removing all the other missing data from the dataset\n",
        "data = data.dropna()"
      ],
      "metadata": {
        "id": "T77DS8oiWDH3"
      },
      "execution_count": 10,
      "outputs": []
    },
    {
      "cell_type": "code",
      "source": [
        "# Checking the datatype of each column\n",
        "data.dtypes"
      ],
      "metadata": {
        "colab": {
          "base_uri": "https://localhost:8080/"
        },
        "id": "oPylMBZjupCU",
        "outputId": "0ea12459-2df6-409f-fe42-b6742eb4c328"
      },
      "execution_count": 11,
      "outputs": [
        {
          "output_type": "execute_result",
          "data": {
            "text/plain": [
              "Land Use                              object\n",
              "Sale Date                             object\n",
              "Sold As Vacant                        object\n",
              "Multiple Parcels Involved in Sale     object\n",
              "City                                  object\n",
              "Acreage                              float64\n",
              "Tax District                          object\n",
              "Land Value                             int64\n",
              "Building Value                         int64\n",
              "Finished Area                        float64\n",
              "Foundation Type                       object\n",
              "Year Built                             int64\n",
              "Exterior Wall                         object\n",
              "Grade                                 object\n",
              "Bedrooms                             float64\n",
              "Full Bath                            float64\n",
              "Half Bath                            float64\n",
              "Sale Price Compared To Value          object\n",
              "dtype: object"
            ]
          },
          "metadata": {},
          "execution_count": 11
        }
      ]
    },
    {
      "cell_type": "code",
      "source": [
        "# Changing the dataypes of each column\n",
        "\n",
        "data['Land Use'] = data['Land Use'].astype('category')\n",
        "data['Tax District'] = data['Tax District'].astype('category')\n",
        "data['City'] = data['City'].astype('category')\n",
        "data['Foundation Type'] = data['Foundation Type'].astype('category')\n",
        "data['Exterior Wall'] = data['Exterior Wall'].astype('category')\n",
        "data['Grade'] = data['Grade'].astype('category')\n",
        "data['Bedrooms'] = data['Bedrooms'].astype('int')\n",
        "data['Full Bath'] = data['Full Bath'].astype('int')\n",
        "data['Half Bath'] = data['Half Bath'].astype('int')\n",
        "# data['Sale Price Compared To Value'] = data['Sale Price Compared To Value'].astype('category')"
      ],
      "metadata": {
        "id": "62JyENHbv_fj"
      },
      "execution_count": 12,
      "outputs": []
    },
    {
      "cell_type": "code",
      "source": [
        "#Adding additional Features\n",
        "data['Sale Date'] = pd.to_datetime(data['Sale Date'])\n",
        "data['Sale_Year'] = pd.DatetimeIndex(data['Sale Date']).year\n",
        "data['Sale_Month'] = pd.DatetimeIndex(data['Sale Date']).month\n",
        "\n",
        "#data['Total_Value'] = data['Land Value'] + data['Building Value']\n",
        "# data.groupby(['Sale_Year'])['Sale Price'].mean().plot.bar()\n",
        "\n",
        "data.drop(columns=['Sale Date'],axis=1, inplace=True)"
      ],
      "metadata": {
        "id": "oIMf-ovEcd1Z"
      },
      "execution_count": 13,
      "outputs": []
    },
    {
      "cell_type": "code",
      "source": [
        "pd.value_counts(data['Sale Price Compared To Value']).plot.bar()"
      ],
      "metadata": {
        "colab": {
          "base_uri": "https://localhost:8080/",
          "height": 304
        },
        "id": "xeauXQ2qaUyL",
        "outputId": "71ed55c7-5284-46cb-cf83-09d09ca58b50"
      },
      "execution_count": 14,
      "outputs": [
        {
          "output_type": "execute_result",
          "data": {
            "text/plain": [
              "<matplotlib.axes._subplots.AxesSubplot at 0x7f6c3e2c1c70>"
            ]
          },
          "metadata": {},
          "execution_count": 14
        },
        {
          "output_type": "display_data",
          "data": {
            "text/plain": [
              "<Figure size 432x288 with 1 Axes>"
            ],
            "image/png": "[encoded data removed]"
          },
          "metadata": {
            "needs_background": "light"
          }
        }
      ]
    },
    {
      "cell_type": "code",
      "source": [],
      "metadata": {
        "id": "PxrVUZKMaUcm"
      },
      "execution_count": 14,
      "outputs": []
    },
    {
      "cell_type": "code",
      "source": [
        "# Checking the popularity of house types\n",
        "\n",
        "pd.value_counts(data['Foundation Type']).plot.bar()\n"
      ],
      "metadata": {
        "colab": {
          "base_uri": "https://localhost:8080/",
          "height": 328
        },
        "id": "CShcDwFs-ZMV",
        "outputId": "c2c296cc-e8ea-4dcc-f0e4-042c1ed7836d"
      },
      "execution_count": 15,
      "outputs": [
        {
          "output_type": "execute_result",
          "data": {
            "text/plain": [
              "<matplotlib.axes._subplots.AxesSubplot at 0x7f6c31fceca0>"
            ]
          },
          "metadata": {},
          "execution_count": 15
        },
        {
          "output_type": "display_data",
          "data": {
            "text/plain": [
              "<Figure size 432x288 with 1 Axes>"
            ],
            "image/png": "[encoded data removed]"
          },
          "metadata": {
            "needs_background": "light"
          }
        }
      ]
    },
    {
      "cell_type": "code",
      "source": [
        "# Checking the sale price with respect to year\n",
        "\n",
        "data.groupby(['Sale_Year'])['Land Value'].mean().plot.bar()"
      ],
      "metadata": {
        "colab": {
          "base_uri": "https://localhost:8080/",
          "height": 314
        },
        "id": "7qu7uo8T-Drb",
        "outputId": "e2e2ba48-5c48-47d7-8232-516ad6675c04"
      },
      "execution_count": 16,
      "outputs": [
        {
          "output_type": "execute_result",
          "data": {
            "text/plain": [
              "<matplotlib.axes._subplots.AxesSubplot at 0x7f6c3202a910>"
            ]
          },
          "metadata": {},
          "execution_count": 16
        },
        {
          "output_type": "display_data",
          "data": {
            "text/plain": [
              "<Figure size 432x288 with 1 Axes>"
            ],
            "image/png": "[encoded data removed]"
          },
          "metadata": {
            "needs_background": "light"
          }
        }
      ]
    },
    {
      "cell_type": "code",
      "source": [
        "# Using get_dummies to encode the categorical data\n",
        "\n",
        "data = pd.get_dummies(data, columns=['Land Use','Tax District','City','Foundation Type', 'Exterior Wall', 'Grade'], drop_first=False, dummy_na=False)\n",
        "data"
      ],
      "metadata": {
        "colab": {
          "base_uri": "https://localhost:8080/",
          "height": 485
        },
        "id": "GbI87pbsJOQz",
        "outputId": "c05ce5f8-e802-4b67-9c9a-74853dd3883c"
      },
      "execution_count": 17,
      "outputs": [
        {
          "output_type": "execute_result",
          "data": {
            "text/plain": [
              "      Sold As Vacant Multiple Parcels Involved in Sale  Acreage  Land Value  \\\n",
              "0                 No                                No     0.17       32000   \n",
              "1                 No                                No     0.11       34000   \n",
              "2                 No                                No     0.17       25000   \n",
              "3                 No                                No     0.34       25000   \n",
              "4                 No                                No     0.17       25000   \n",
              "...              ...                               ...      ...         ...   \n",
              "22646             No                                No     0.38       25000   \n",
              "22647             No                                No     0.27       25000   \n",
              "22648             No                                No     0.23       25000   \n",
              "22649             No                                No     0.15       40000   \n",
              "22650             No                                No     0.19       40000   \n",
              "\n",
              "       Building Value  Finished Area  Year Built  Bedrooms  Full Bath  \\\n",
              "0              134400     1149.00000        1941         2          1   \n",
              "1              157800     2090.82495        2000         3          2   \n",
              "2              243700     2145.60001        1948         4          2   \n",
              "3              138100     1969.00000        1910         2          1   \n",
              "4               86100     1037.00000        1945         2          1   \n",
              "...               ...            ...         ...       ...        ...   \n",
              "22646          105000     1758.00000        1996         3          2   \n",
              "22647          142400     2421.00000        1996         3          3   \n",
              "22648          159300     3117.00000        1995         3          3   \n",
              "22649          204100     1637.00000        2004         3          2   \n",
              "22650          295900     2478.00000        2005         4          3   \n",
              "\n",
              "       Half Bath  ... Exterior Wall_STONE  Exterior Wall_STUCCO  Grade_A     \\\n",
              "0              0  ...                   0                     0           0   \n",
              "1              1  ...                   0                     0           0   \n",
              "2              0  ...                   0                     0           0   \n",
              "3              0  ...                   0                     0           0   \n",
              "4              0  ...                   0                     0           0   \n",
              "...          ...  ...                 ...                   ...         ...   \n",
              "22646          0  ...                   0                     0           0   \n",
              "22647          0  ...                   0                     0           0   \n",
              "22648          0  ...                   0                     0           0   \n",
              "22649          1  ...                   0                     0           0   \n",
              "22650          1  ...                   0                     0           0   \n",
              "\n",
              "       Grade_B     Grade_C     Grade_D     Grade_E     Grade_OFB   Grade_SSC   \\\n",
              "0               0           1           0           0           0           0   \n",
              "1               0           1           0           0           0           0   \n",
              "2               1           0           0           0           0           0   \n",
              "3               0           1           0           0           0           0   \n",
              "4               0           1           0           0           0           0   \n",
              "...           ...         ...         ...         ...         ...         ...   \n",
              "22646           0           1           0           0           0           0   \n",
              "22647           0           1           0           0           0           0   \n",
              "22648           0           1           0           0           0           0   \n",
              "22649           1           0           0           0           0           0   \n",
              "22650           1           0           0           0           0           0   \n",
              "\n",
              "       Grade_X     \n",
              "0               0  \n",
              "1               0  \n",
              "2               0  \n",
              "3               0  \n",
              "4               0  \n",
              "...           ...  \n",
              "22646           0  \n",
              "22647           0  \n",
              "22648           0  \n",
              "22649           0  \n",
              "22650           0  \n",
              "\n",
              "[22646 rows x 57 columns]"
            ],
            "text/html": [
              "\n",
              "  <div id=\"df-e2b41bae-193d-4c72-9565-0de5897f1aa4\">\n",
              "    <div class=\"colab-df-container\">\n",
              "      <div>\n",
              "<style scoped>\n",
              "    .dataframe tbody tr th:only-of-type {\n",
              "        vertical-align: middle;\n",
              "    }\n",
              "\n",
              "    .dataframe tbody tr th {\n",
              "        vertical-align: top;\n",
              "    }\n",
              "\n",
              "    .dataframe thead th {\n",
              "        text-align: right;\n",
              "    }\n",
              "</style>\n",
              "<table border=\"1\" class=\"dataframe\">\n",
              "  <thead>\n",
              "    <tr style=\"text-align: right;\">\n",
              "      <th></th>\n",
              "      <th>Sold As Vacant</th>\n",
              "      <th>Multiple Parcels Involved in Sale</th>\n",
              "      <th>Acreage</th>\n",
              "      <th>Land Value</th>\n",
              "      <th>Building Value</th>\n",
              "      <th>Finished Area</th>\n",
              "      <th>Year Built</th>\n",
              "      <th>Bedrooms</th>\n",
              "      <th>Full Bath</th>\n",
              "      <th>Half Bath</th>\n",
              "      <th>...</th>\n",
              "      <th>Exterior Wall_STONE</th>\n",
              "      <th>Exterior Wall_STUCCO</th>\n",
              "      <th>Grade_A</th>\n",
              "      <th>Grade_B</th>\n",
              "      <th>Grade_C</th>\n",
              "      <th>Grade_D</th>\n",
              "      <th>Grade_E</th>\n",
              "      <th>Grade_OFB</th>\n",
              "      <th>Grade_SSC</th>\n",
              "      <th>Grade_X</th>\n",
              "    </tr>\n",
              "  </thead>\n",
              "  <tbody>\n",
              "    <tr>\n",
              "      <th>0</th>\n",
              "      <td>No</td>\n",
              "      <td>No</td>\n",
              "      <td>0.17</td>\n",
              "      <td>32000</td>\n",
              "      <td>134400</td>\n",
              "      <td>1149.00000</td>\n",
              "      <td>1941</td>\n",
              "      <td>2</td>\n",
              "      <td>1</td>\n",
              "      <td>0</td>\n",
              "      <td>...</td>\n",
              "      <td>0</td>\n",
              "      <td>0</td>\n",
              "      <td>0</td>\n",
              "      <td>0</td>\n",
              "      <td>1</td>\n",
              "      <td>0</td>\n",
              "      <td>0</td>\n",
              "      <td>0</td>\n",
              "      <td>0</td>\n",
              "      <td>0</td>\n",
              "    </tr>\n",
              "    <tr>\n",
              "      <th>1</th>\n",
              "      <td>No</td>\n",
              "      <td>No</td>\n",
              "      <td>0.11</td>\n",
              "      <td>34000</td>\n",
              "      <td>157800</td>\n",
              "      <td>2090.82495</td>\n",
              "      <td>2000</td>\n",
              "      <td>3</td>\n",
              "      <td>2</td>\n",
              "      <td>1</td>\n",
              "      <td>...</td>\n",
              "      <td>0</td>\n",
              "      <td>0</td>\n",
              "      <td>0</td>\n",
              "      <td>0</td>\n",
              "      <td>1</td>\n",
              "      <td>0</td>\n",
              "      <td>0</td>\n",
              "      <td>0</td>\n",
              "      <td>0</td>\n",
              "      <td>0</td>\n",
              "    </tr>\n",
              "    <tr>\n",
              "      <th>2</th>\n",
              "      <td>No</td>\n",
              "      <td>No</td>\n",
              "      <td>0.17</td>\n",
              "      <td>25000</td>\n",
              "      <td>243700</td>\n",
              "      <td>2145.60001</td>\n",
              "      <td>1948</td>\n",
              "      <td>4</td>\n",
              "      <td>2</td>\n",
              "      <td>0</td>\n",
              "      <td>...</td>\n",
              "      <td>0</td>\n",
              "      <td>0</td>\n",
              "      <td>0</td>\n",
              "      <td>1</td>\n",
              "      <td>0</td>\n",
              "      <td>0</td>\n",
              "      <td>0</td>\n",
              "      <td>0</td>\n",
              "      <td>0</td>\n",
              "      <td>0</td>\n",
              "    </tr>\n",
              "    <tr>\n",
              "      <th>3</th>\n",
              "      <td>No</td>\n",
              "      <td>No</td>\n",
              "      <td>0.34</td>\n",
              "      <td>25000</td>\n",
              "      <td>138100</td>\n",
              "      <td>1969.00000</td>\n",
              "      <td>1910</td>\n",
              "      <td>2</td>\n",
              "      <td>1</td>\n",
              "      <td>0</td>\n",
              "      <td>...</td>\n",
              "      <td>0</td>\n",
              "      <td>0</td>\n",
              "      <td>0</td>\n",
              "      <td>0</td>\n",
              "      <td>1</td>\n",
              "      <td>0</td>\n",
              "      <td>0</td>\n",
              "      <td>0</td>\n",
              "      <td>0</td>\n",
              "      <td>0</td>\n",
              "    </tr>\n",
              "    <tr>\n",
              "      <th>4</th>\n",
              "      <td>No</td>\n",
              "      <td>No</td>\n",
              "      <td>0.17</td>\n",
              "      <td>25000</td>\n",
              "      <td>86100</td>\n",
              "      <td>1037.00000</td>\n",
              "      <td>1945</td>\n",
              "      <td>2</td>\n",
              "      <td>1</td>\n",
              "      <td>0</td>\n",
              "      <td>...</td>\n",
              "      <td>0</td>\n",
              "      <td>0</td>\n",
              "      <td>0</td>\n",
              "      <td>0</td>\n",
              "      <td>1</td>\n",
              "      <td>0</td>\n",
              "      <td>0</td>\n",
              "      <td>0</td>\n",
              "      <td>0</td>\n",
              "      <td>0</td>\n",
              "    </tr>\n",
              "    <tr>\n",
              "      <th>...</th>\n",
              "      <td>...</td>\n",
              "      <td>...</td>\n",
              "      <td>...</td>\n",
              "      <td>...</td>\n",
              "      <td>...</td>\n",
              "      <td>...</td>\n",
              "      <td>...</td>\n",
              "      <td>...</td>\n",
              "      <td>...</td>\n",
              "      <td>...</td>\n",
              "      <td>...</td>\n",
              "      <td>...</td>\n",
              "      <td>...</td>\n",
              "      <td>...</td>\n",
              "      <td>...</td>\n",
              "      <td>...</td>\n",
              "      <td>...</td>\n",
              "      <td>...</td>\n",
              "      <td>...</td>\n",
              "      <td>...</td>\n",
              "      <td>...</td>\n",
              "    </tr>\n",
              "    <tr>\n",
              "      <th>22646</th>\n",
              "      <td>No</td>\n",
              "      <td>No</td>\n",
              "      <td>0.38</td>\n",
              "      <td>25000</td>\n",
              "      <td>105000</td>\n",
              "      <td>1758.00000</td>\n",
              "      <td>1996</td>\n",
              "      <td>3</td>\n",
              "      <td>2</td>\n",
              "      <td>0</td>\n",
              "      <td>...</td>\n",
              "      <td>0</td>\n",
              "      <td>0</td>\n",
              "      <td>0</td>\n",
              "      <td>0</td>\n",
              "      <td>1</td>\n",
              "      <td>0</td>\n",
              "      <td>0</td>\n",
              "      <td>0</td>\n",
              "      <td>0</td>\n",
              "      <td>0</td>\n",
              "    </tr>\n",
              "    <tr>\n",
              "      <th>22647</th>\n",
              "      <td>No</td>\n",
              "      <td>No</td>\n",
              "      <td>0.27</td>\n",
              "      <td>25000</td>\n",
              "      <td>142400</td>\n",
              "      <td>2421.00000</td>\n",
              "      <td>1996</td>\n",
              "      <td>3</td>\n",
              "      <td>3</td>\n",
              "      <td>0</td>\n",
              "      <td>...</td>\n",
              "      <td>0</td>\n",
              "      <td>0</td>\n",
              "      <td>0</td>\n",
              "      <td>0</td>\n",
              "      <td>1</td>\n",
              "      <td>0</td>\n",
              "      <td>0</td>\n",
              "      <td>0</td>\n",
              "      <td>0</td>\n",
              "      <td>0</td>\n",
              "    </tr>\n",
              "    <tr>\n",
              "      <th>22648</th>\n",
              "      <td>No</td>\n",
              "      <td>No</td>\n",
              "      <td>0.23</td>\n",
              "      <td>25000</td>\n",
              "      <td>159300</td>\n",
              "      <td>3117.00000</td>\n",
              "      <td>1995</td>\n",
              "      <td>3</td>\n",
              "      <td>3</td>\n",
              "      <td>0</td>\n",
              "      <td>...</td>\n",
              "      <td>0</td>\n",
              "      <td>0</td>\n",
              "      <td>0</td>\n",
              "      <td>0</td>\n",
              "      <td>1</td>\n",
              "      <td>0</td>\n",
              "      <td>0</td>\n",
              "      <td>0</td>\n",
              "      <td>0</td>\n",
              "      <td>0</td>\n",
              "    </tr>\n",
              "    <tr>\n",
              "      <th>22649</th>\n",
              "      <td>No</td>\n",
              "      <td>No</td>\n",
              "      <td>0.15</td>\n",
              "      <td>40000</td>\n",
              "      <td>204100</td>\n",
              "      <td>1637.00000</td>\n",
              "      <td>2004</td>\n",
              "      <td>3</td>\n",
              "      <td>2</td>\n",
              "      <td>1</td>\n",
              "      <td>...</td>\n",
              "      <td>0</td>\n",
              "      <td>0</td>\n",
              "      <td>0</td>\n",
              "      <td>1</td>\n",
              "      <td>0</td>\n",
              "      <td>0</td>\n",
              "      <td>0</td>\n",
              "      <td>0</td>\n",
              "      <td>0</td>\n",
              "      <td>0</td>\n",
              "    </tr>\n",
              "    <tr>\n",
              "      <th>22650</th>\n",
              "      <td>No</td>\n",
              "      <td>No</td>\n",
              "      <td>0.19</td>\n",
              "      <td>40000</td>\n",
              "      <td>295900</td>\n",
              "      <td>2478.00000</td>\n",
              "      <td>2005</td>\n",
              "      <td>4</td>\n",
              "      <td>3</td>\n",
              "      <td>1</td>\n",
              "      <td>...</td>\n",
              "      <td>0</td>\n",
              "      <td>0</td>\n",
              "      <td>0</td>\n",
              "      <td>1</td>\n",
              "      <td>0</td>\n",
              "      <td>0</td>\n",
              "      <td>0</td>\n",
              "      <td>0</td>\n",
              "      <td>0</td>\n",
              "      <td>0</td>\n",
              "    </tr>\n",
              "  </tbody>\n",
              "</table>\n",
              "<p>22646 rows × 57 columns</p>\n",
              "</div>\n",
              "      <button class=\"colab-df-convert\" onclick=\"convertToInteractive('df-e2b41bae-193d-4c72-9565-0de5897f1aa4')\"\n",
              "              title=\"Convert this dataframe to an interactive table.\"\n",
              "              style=\"display:none;\">\n",
              "        \n",
              "  <svg xmlns=\"http://www.w3.org/2000/svg\" height=\"24px\"viewBox=\"0 0 24 24\"\n",
              "       width=\"24px\">\n",
              "    <path d=\"M0 0h24v24H0V0z\" fill=\"none\"/>\n",
              "    <path d=\"M18.56 5.44l.94 2.06.94-2.06 2.06-.94-2.06-.94-.94-2.06-.94 2.06-2.06.94zm-11 1L8.5 8.5l.94-2.06 2.06-.94-2.06-.94L8.5 2.5l-.94 2.06-2.06.94zm10 10l.94 2.06.94-2.06 2.06-.94-2.06-.94-.94-2.06-.94 2.06-2.06.94z\"/><path d=\"M17.41 7.96l-1.37-1.37c-.4-.4-.92-.59-1.43-.59-.52 0-1.04.2-1.43.59L10.3 9.45l-7.72 7.72c-.78.78-.78 2.05 0 2.83L4 21.41c.39.39.9.59 1.41.59.51 0 1.02-.2 1.41-.59l7.78-7.78 2.81-2.81c.8-.78.8-2.07 0-2.86zM5.41 20L4 18.59l7.72-7.72 1.47 1.35L5.41 20z\"/>\n",
              "  </svg>\n",
              "      </button>\n",
              "      \n",
              "  <style>\n",
              "    .colab-df-container {\n",
              "      display:flex;\n",
              "      flex-wrap:wrap;\n",
              "      gap: 12px;\n",
              "    }\n",
              "\n",
              "    .colab-df-convert {\n",
              "      background-color: #E8F0FE;\n",
              "      border: none;\n",
              "      border-radius: 50%;\n",
              "      cursor: pointer;\n",
              "      display: none;\n",
              "      fill: #1967D2;\n",
              "      height: 32px;\n",
              "      padding: 0 0 0 0;\n",
              "      width: 32px;\n",
              "    }\n",
              "\n",
              "    .colab-df-convert:hover {\n",
              "      background-color: #E2EBFA;\n",
              "      box-shadow: 0px 1px 2px rgba(60, 64, 67, 0.3), 0px 1px 3px 1px rgba(60, 64, 67, 0.15);\n",
              "      fill: #174EA6;\n",
              "    }\n",
              "\n",
              "    [theme=dark] .colab-df-convert {\n",
              "      background-color: #3B4455;\n",
              "      fill: #D2E3FC;\n",
              "    }\n",
              "\n",
              "    [theme=dark] .colab-df-convert:hover {\n",
              "      background-color: #434B5C;\n",
              "      box-shadow: 0px 1px 3px 1px rgba(0, 0, 0, 0.15);\n",
              "      filter: drop-shadow(0px 1px 2px rgba(0, 0, 0, 0.3));\n",
              "      fill: #FFFFFF;\n",
              "    }\n",
              "  </style>\n",
              "\n",
              "      <script>\n",
              "        const buttonEl =\n",
              "          document.querySelector('#df-e2b41bae-193d-4c72-9565-0de5897f1aa4 button.colab-df-convert');\n",
              "        buttonEl.style.display =\n",
              "          google.colab.kernel.accessAllowed ? 'block' : 'none';\n",
              "\n",
              "        async function convertToInteractive(key) {\n",
              "          const element = document.querySelector('#df-e2b41bae-193d-4c72-9565-0de5897f1aa4');\n",
              "          const dataTable =\n",
              "            await google.colab.kernel.invokeFunction('convertToInteractive',\n",
              "                                                     [key], {});\n",
              "          if (!dataTable) return;\n",
              "\n",
              "          const docLinkHtml = 'Like what you see? Visit the ' +\n",
              "            '<a target=\"_blank\" href=https://colab.research.google.com/notebooks/data_table.ipynb>data table notebook</a>'\n",
              "            + ' to learn more about interactive tables.';\n",
              "          element.innerHTML = '';\n",
              "          dataTable['output_type'] = 'display_data';\n",
              "          await google.colab.output.renderOutput(dataTable, element);\n",
              "          const docLink = document.createElement('div');\n",
              "          docLink.innerHTML = docLinkHtml;\n",
              "          element.appendChild(docLink);\n",
              "        }\n",
              "      </script>\n",
              "    </div>\n",
              "  </div>\n",
              "  "
            ]
          },
          "metadata": {},
          "execution_count": 17
        }
      ]
    },
    {
      "cell_type": "code",
      "source": [],
      "metadata": {
        "id": "_lwwJqoukfRW"
      },
      "execution_count": 17,
      "outputs": []
    },
    {
      "cell_type": "code",
      "source": [
        "# Using Label Encoder. \n",
        "from sklearn.preprocessing import LabelEncoder\n",
        "le= LabelEncoder()\n",
        "\n",
        "data['Sold As Vacant']= le.fit_transform(data['Sold As Vacant'])\n",
        "data['Multiple Parcels Involved in Sale']= le.fit_transform(data['Multiple Parcels Involved in Sale'])\n",
        "data['Sale Price Compared To Value']= le.fit_transform(data['Sale Price Compared To Value'])"
      ],
      "metadata": {
        "id": "mvEowcqLKnTz"
      },
      "execution_count": 18,
      "outputs": []
    },
    {
      "cell_type": "code",
      "source": [
        "data"
      ],
      "metadata": {
        "colab": {
          "base_uri": "https://localhost:8080/",
          "height": 485
        },
        "id": "ruOJg9qzlTJS",
        "outputId": "1666ed36-c7dc-4ff0-9b8e-7e6624bb0559"
      },
      "execution_count": 19,
      "outputs": [
        {
          "output_type": "execute_result",
          "data": {
            "text/plain": [
              "       Sold As Vacant  Multiple Parcels Involved in Sale  Acreage  Land Value  \\\n",
              "0                   0                                  0     0.17       32000   \n",
              "1                   0                                  0     0.11       34000   \n",
              "2                   0                                  0     0.17       25000   \n",
              "3                   0                                  0     0.34       25000   \n",
              "4                   0                                  0     0.17       25000   \n",
              "...               ...                                ...      ...         ...   \n",
              "22646               0                                  0     0.38       25000   \n",
              "22647               0                                  0     0.27       25000   \n",
              "22648               0                                  0     0.23       25000   \n",
              "22649               0                                  0     0.15       40000   \n",
              "22650               0                                  0     0.19       40000   \n",
              "\n",
              "       Building Value  Finished Area  Year Built  Bedrooms  Full Bath  \\\n",
              "0              134400     1149.00000        1941         2          1   \n",
              "1              157800     2090.82495        2000         3          2   \n",
              "2              243700     2145.60001        1948         4          2   \n",
              "3              138100     1969.00000        1910         2          1   \n",
              "4               86100     1037.00000        1945         2          1   \n",
              "...               ...            ...         ...       ...        ...   \n",
              "22646          105000     1758.00000        1996         3          2   \n",
              "22647          142400     2421.00000        1996         3          3   \n",
              "22648          159300     3117.00000        1995         3          3   \n",
              "22649          204100     1637.00000        2004         3          2   \n",
              "22650          295900     2478.00000        2005         4          3   \n",
              "\n",
              "       Half Bath  ...  Exterior Wall_STONE  Exterior Wall_STUCCO  Grade_A     \\\n",
              "0              0  ...                    0                     0           0   \n",
              "1              1  ...                    0                     0           0   \n",
              "2              0  ...                    0                     0           0   \n",
              "3              0  ...                    0                     0           0   \n",
              "4              0  ...                    0                     0           0   \n",
              "...          ...  ...                  ...                   ...         ...   \n",
              "22646          0  ...                    0                     0           0   \n",
              "22647          0  ...                    0                     0           0   \n",
              "22648          0  ...                    0                     0           0   \n",
              "22649          1  ...                    0                     0           0   \n",
              "22650          1  ...                    0                     0           0   \n",
              "\n",
              "       Grade_B     Grade_C     Grade_D     Grade_E     Grade_OFB   Grade_SSC   \\\n",
              "0               0           1           0           0           0           0   \n",
              "1               0           1           0           0           0           0   \n",
              "2               1           0           0           0           0           0   \n",
              "3               0           1           0           0           0           0   \n",
              "4               0           1           0           0           0           0   \n",
              "...           ...         ...         ...         ...         ...         ...   \n",
              "22646           0           1           0           0           0           0   \n",
              "22647           0           1           0           0           0           0   \n",
              "22648           0           1           0           0           0           0   \n",
              "22649           1           0           0           0           0           0   \n",
              "22650           1           0           0           0           0           0   \n",
              "\n",
              "       Grade_X     \n",
              "0               0  \n",
              "1               0  \n",
              "2               0  \n",
              "3               0  \n",
              "4               0  \n",
              "...           ...  \n",
              "22646           0  \n",
              "22647           0  \n",
              "22648           0  \n",
              "22649           0  \n",
              "22650           0  \n",
              "\n",
              "[22646 rows x 57 columns]"
            ],
            "text/html": [
              "\n",
              "  <div id=\"df-5dd8abef-7960-4aa9-b03d-dfed54060d64\">\n",
              "    <div class=\"colab-df-container\">\n",
              "      <div>\n",
              "<style scoped>\n",
              "    .dataframe tbody tr th:only-of-type {\n",
              "        vertical-align: middle;\n",
              "    }\n",
              "\n",
              "    .dataframe tbody tr th {\n",
              "        vertical-align: top;\n",
              "    }\n",
              "\n",
              "    .dataframe thead th {\n",
              "        text-align: right;\n",
              "    }\n",
              "</style>\n",
              "<table border=\"1\" class=\"dataframe\">\n",
              "  <thead>\n",
              "    <tr style=\"text-align: right;\">\n",
              "      <th></th>\n",
              "      <th>Sold As Vacant</th>\n",
              "      <th>Multiple Parcels Involved in Sale</th>\n",
              "      <th>Acreage</th>\n",
              "      <th>Land Value</th>\n",
              "      <th>Building Value</th>\n",
              "      <th>Finished Area</th>\n",
              "      <th>Year Built</th>\n",
              "      <th>Bedrooms</th>\n",
              "      <th>Full Bath</th>\n",
              "      <th>Half Bath</th>\n",
              "      <th>...</th>\n",
              "      <th>Exterior Wall_STONE</th>\n",
              "      <th>Exterior Wall_STUCCO</th>\n",
              "      <th>Grade_A</th>\n",
              "      <th>Grade_B</th>\n",
              "      <th>Grade_C</th>\n",
              "      <th>Grade_D</th>\n",
              "      <th>Grade_E</th>\n",
              "      <th>Grade_OFB</th>\n",
              "      <th>Grade_SSC</th>\n",
              "      <th>Grade_X</th>\n",
              "    </tr>\n",
              "  </thead>\n",
              "  <tbody>\n",
              "    <tr>\n",
              "      <th>0</th>\n",
              "      <td>0</td>\n",
              "      <td>0</td>\n",
              "      <td>0.17</td>\n",
              "      <td>32000</td>\n",
              "      <td>134400</td>\n",
              "      <td>1149.00000</td>\n",
              "      <td>1941</td>\n",
              "      <td>2</td>\n",
              "      <td>1</td>\n",
              "      <td>0</td>\n",
              "      <td>...</td>\n",
              "      <td>0</td>\n",
              "      <td>0</td>\n",
              "      <td>0</td>\n",
              "      <td>0</td>\n",
              "      <td>1</td>\n",
              "      <td>0</td>\n",
              "      <td>0</td>\n",
              "      <td>0</td>\n",
              "      <td>0</td>\n",
              "      <td>0</td>\n",
              "    </tr>\n",
              "    <tr>\n",
              "      <th>1</th>\n",
              "      <td>0</td>\n",
              "      <td>0</td>\n",
              "      <td>0.11</td>\n",
              "      <td>34000</td>\n",
              "      <td>157800</td>\n",
              "      <td>2090.82495</td>\n",
              "      <td>2000</td>\n",
              "      <td>3</td>\n",
              "      <td>2</td>\n",
              "      <td>1</td>\n",
              "      <td>...</td>\n",
              "      <td>0</td>\n",
              "      <td>0</td>\n",
              "      <td>0</td>\n",
              "      <td>0</td>\n",
              "      <td>1</td>\n",
              "      <td>0</td>\n",
              "      <td>0</td>\n",
              "      <td>0</td>\n",
              "      <td>0</td>\n",
              "      <td>0</td>\n",
              "    </tr>\n",
              "    <tr>\n",
              "      <th>2</th>\n",
              "      <td>0</td>\n",
              "      <td>0</td>\n",
              "      <td>0.17</td>\n",
              "      <td>25000</td>\n",
              "      <td>243700</td>\n",
              "      <td>2145.60001</td>\n",
              "      <td>1948</td>\n",
              "      <td>4</td>\n",
              "      <td>2</td>\n",
              "      <td>0</td>\n",
              "      <td>...</td>\n",
              "      <td>0</td>\n",
              "      <td>0</td>\n",
              "      <td>0</td>\n",
              "      <td>1</td>\n",
              "      <td>0</td>\n",
              "      <td>0</td>\n",
              "      <td>0</td>\n",
              "      <td>0</td>\n",
              "      <td>0</td>\n",
              "      <td>0</td>\n",
              "    </tr>\n",
              "    <tr>\n",
              "      <th>3</th>\n",
              "      <td>0</td>\n",
              "      <td>0</td>\n",
              "      <td>0.34</td>\n",
              "      <td>25000</td>\n",
              "      <td>138100</td>\n",
              "      <td>1969.00000</td>\n",
              "      <td>1910</td>\n",
              "      <td>2</td>\n",
              "      <td>1</td>\n",
              "      <td>0</td>\n",
              "      <td>...</td>\n",
              "      <td>0</td>\n",
              "      <td>0</td>\n",
              "      <td>0</td>\n",
              "      <td>0</td>\n",
              "      <td>1</td>\n",
              "      <td>0</td>\n",
              "      <td>0</td>\n",
              "      <td>0</td>\n",
              "      <td>0</td>\n",
              "      <td>0</td>\n",
              "    </tr>\n",
              "    <tr>\n",
              "      <th>4</th>\n",
              "      <td>0</td>\n",
              "      <td>0</td>\n",
              "      <td>0.17</td>\n",
              "      <td>25000</td>\n",
              "      <td>86100</td>\n",
              "      <td>1037.00000</td>\n",
              "      <td>1945</td>\n",
              "      <td>2</td>\n",
              "      <td>1</td>\n",
              "      <td>0</td>\n",
              "      <td>...</td>\n",
              "      <td>0</td>\n",
              "      <td>0</td>\n",
              "      <td>0</td>\n",
              "      <td>0</td>\n",
              "      <td>1</td>\n",
              "      <td>0</td>\n",
              "      <td>0</td>\n",
              "      <td>0</td>\n",
              "      <td>0</td>\n",
              "      <td>0</td>\n",
              "    </tr>\n",
              "    <tr>\n",
              "      <th>...</th>\n",
              "      <td>...</td>\n",
              "      <td>...</td>\n",
              "      <td>...</td>\n",
              "      <td>...</td>\n",
              "      <td>...</td>\n",
              "      <td>...</td>\n",
              "      <td>...</td>\n",
              "      <td>...</td>\n",
              "      <td>...</td>\n",
              "      <td>...</td>\n",
              "      <td>...</td>\n",
              "      <td>...</td>\n",
              "      <td>...</td>\n",
              "      <td>...</td>\n",
              "      <td>...</td>\n",
              "      <td>...</td>\n",
              "      <td>...</td>\n",
              "      <td>...</td>\n",
              "      <td>...</td>\n",
              "      <td>...</td>\n",
              "      <td>...</td>\n",
              "    </tr>\n",
              "    <tr>\n",
              "      <th>22646</th>\n",
              "      <td>0</td>\n",
              "      <td>0</td>\n",
              "      <td>0.38</td>\n",
              "      <td>25000</td>\n",
              "      <td>105000</td>\n",
              "      <td>1758.00000</td>\n",
              "      <td>1996</td>\n",
              "      <td>3</td>\n",
              "      <td>2</td>\n",
              "      <td>0</td>\n",
              "      <td>...</td>\n",
              "      <td>0</td>\n",
              "      <td>0</td>\n",
              "      <td>0</td>\n",
              "      <td>0</td>\n",
              "      <td>1</td>\n",
              "      <td>0</td>\n",
              "      <td>0</td>\n",
              "      <td>0</td>\n",
              "      <td>0</td>\n",
              "      <td>0</td>\n",
              "    </tr>\n",
              "    <tr>\n",
              "      <th>22647</th>\n",
              "      <td>0</td>\n",
              "      <td>0</td>\n",
              "      <td>0.27</td>\n",
              "      <td>25000</td>\n",
              "      <td>142400</td>\n",
              "      <td>2421.00000</td>\n",
              "      <td>1996</td>\n",
              "      <td>3</td>\n",
              "      <td>3</td>\n",
              "      <td>0</td>\n",
              "      <td>...</td>\n",
              "      <td>0</td>\n",
              "      <td>0</td>\n",
              "      <td>0</td>\n",
              "      <td>0</td>\n",
              "      <td>1</td>\n",
              "      <td>0</td>\n",
              "      <td>0</td>\n",
              "      <td>0</td>\n",
              "      <td>0</td>\n",
              "      <td>0</td>\n",
              "    </tr>\n",
              "    <tr>\n",
              "      <th>22648</th>\n",
              "      <td>0</td>\n",
              "      <td>0</td>\n",
              "      <td>0.23</td>\n",
              "      <td>25000</td>\n",
              "      <td>159300</td>\n",
              "      <td>3117.00000</td>\n",
              "      <td>1995</td>\n",
              "      <td>3</td>\n",
              "      <td>3</td>\n",
              "      <td>0</td>\n",
              "      <td>...</td>\n",
              "      <td>0</td>\n",
              "      <td>0</td>\n",
              "      <td>0</td>\n",
              "      <td>0</td>\n",
              "      <td>1</td>\n",
              "      <td>0</td>\n",
              "      <td>0</td>\n",
              "      <td>0</td>\n",
              "      <td>0</td>\n",
              "      <td>0</td>\n",
              "    </tr>\n",
              "    <tr>\n",
              "      <th>22649</th>\n",
              "      <td>0</td>\n",
              "      <td>0</td>\n",
              "      <td>0.15</td>\n",
              "      <td>40000</td>\n",
              "      <td>204100</td>\n",
              "      <td>1637.00000</td>\n",
              "      <td>2004</td>\n",
              "      <td>3</td>\n",
              "      <td>2</td>\n",
              "      <td>1</td>\n",
              "      <td>...</td>\n",
              "      <td>0</td>\n",
              "      <td>0</td>\n",
              "      <td>0</td>\n",
              "      <td>1</td>\n",
              "      <td>0</td>\n",
              "      <td>0</td>\n",
              "      <td>0</td>\n",
              "      <td>0</td>\n",
              "      <td>0</td>\n",
              "      <td>0</td>\n",
              "    </tr>\n",
              "    <tr>\n",
              "      <th>22650</th>\n",
              "      <td>0</td>\n",
              "      <td>0</td>\n",
              "      <td>0.19</td>\n",
              "      <td>40000</td>\n",
              "      <td>295900</td>\n",
              "      <td>2478.00000</td>\n",
              "      <td>2005</td>\n",
              "      <td>4</td>\n",
              "      <td>3</td>\n",
              "      <td>1</td>\n",
              "      <td>...</td>\n",
              "      <td>0</td>\n",
              "      <td>0</td>\n",
              "      <td>0</td>\n",
              "      <td>1</td>\n",
              "      <td>0</td>\n",
              "      <td>0</td>\n",
              "      <td>0</td>\n",
              "      <td>0</td>\n",
              "      <td>0</td>\n",
              "      <td>0</td>\n",
              "    </tr>\n",
              "  </tbody>\n",
              "</table>\n",
              "<p>22646 rows × 57 columns</p>\n",
              "</div>\n",
              "      <button class=\"colab-df-convert\" onclick=\"convertToInteractive('df-5dd8abef-7960-4aa9-b03d-dfed54060d64')\"\n",
              "              title=\"Convert this dataframe to an interactive table.\"\n",
              "              style=\"display:none;\">\n",
              "        \n",
              "  <svg xmlns=\"http://www.w3.org/2000/svg\" height=\"24px\"viewBox=\"0 0 24 24\"\n",
              "       width=\"24px\">\n",
              "    <path d=\"M0 0h24v24H0V0z\" fill=\"none\"/>\n",
              "    <path d=\"M18.56 5.44l.94 2.06.94-2.06 2.06-.94-2.06-.94-.94-2.06-.94 2.06-2.06.94zm-11 1L8.5 8.5l.94-2.06 2.06-.94-2.06-.94L8.5 2.5l-.94 2.06-2.06.94zm10 10l.94 2.06.94-2.06 2.06-.94-2.06-.94-.94-2.06-.94 2.06-2.06.94z\"/><path d=\"M17.41 7.96l-1.37-1.37c-.4-.4-.92-.59-1.43-.59-.52 0-1.04.2-1.43.59L10.3 9.45l-7.72 7.72c-.78.78-.78 2.05 0 2.83L4 21.41c.39.39.9.59 1.41.59.51 0 1.02-.2 1.41-.59l7.78-7.78 2.81-2.81c.8-.78.8-2.07 0-2.86zM5.41 20L4 18.59l7.72-7.72 1.47 1.35L5.41 20z\"/>\n",
              "  </svg>\n",
              "      </button>\n",
              "      \n",
              "  <style>\n",
              "    .colab-df-container {\n",
              "      display:flex;\n",
              "      flex-wrap:wrap;\n",
              "      gap: 12px;\n",
              "    }\n",
              "\n",
              "    .colab-df-convert {\n",
              "      background-color: #E8F0FE;\n",
              "      border: none;\n",
              "      border-radius: 50%;\n",
              "      cursor: pointer;\n",
              "      display: none;\n",
              "      fill: #1967D2;\n",
              "      height: 32px;\n",
              "      padding: 0 0 0 0;\n",
              "      width: 32px;\n",
              "    }\n",
              "\n",
              "    .colab-df-convert:hover {\n",
              "      background-color: #E2EBFA;\n",
              "      box-shadow: 0px 1px 2px rgba(60, 64, 67, 0.3), 0px 1px 3px 1px rgba(60, 64, 67, 0.15);\n",
              "      fill: #174EA6;\n",
              "    }\n",
              "\n",
              "    [theme=dark] .colab-df-convert {\n",
              "      background-color: #3B4455;\n",
              "      fill: #D2E3FC;\n",
              "    }\n",
              "\n",
              "    [theme=dark] .colab-df-convert:hover {\n",
              "      background-color: #434B5C;\n",
              "      box-shadow: 0px 1px 3px 1px rgba(0, 0, 0, 0.15);\n",
              "      filter: drop-shadow(0px 1px 2px rgba(0, 0, 0, 0.3));\n",
              "      fill: #FFFFFF;\n",
              "    }\n",
              "  </style>\n",
              "\n",
              "      <script>\n",
              "        const buttonEl =\n",
              "          document.querySelector('#df-5dd8abef-7960-4aa9-b03d-dfed54060d64 button.colab-df-convert');\n",
              "        buttonEl.style.display =\n",
              "          google.colab.kernel.accessAllowed ? 'block' : 'none';\n",
              "\n",
              "        async function convertToInteractive(key) {\n",
              "          const element = document.querySelector('#df-5dd8abef-7960-4aa9-b03d-dfed54060d64');\n",
              "          const dataTable =\n",
              "            await google.colab.kernel.invokeFunction('convertToInteractive',\n",
              "                                                     [key], {});\n",
              "          if (!dataTable) return;\n",
              "\n",
              "          const docLinkHtml = 'Like what you see? Visit the ' +\n",
              "            '<a target=\"_blank\" href=https://colab.research.google.com/notebooks/data_table.ipynb>data table notebook</a>'\n",
              "            + ' to learn more about interactive tables.';\n",
              "          element.innerHTML = '';\n",
              "          dataTable['output_type'] = 'display_data';\n",
              "          await google.colab.output.renderOutput(dataTable, element);\n",
              "          const docLink = document.createElement('div');\n",
              "          docLink.innerHTML = docLinkHtml;\n",
              "          element.appendChild(docLink);\n",
              "        }\n",
              "      </script>\n",
              "    </div>\n",
              "  </div>\n",
              "  "
            ]
          },
          "metadata": {},
          "execution_count": 19
        }
      ]
    },
    {
      "cell_type": "code",
      "source": [
        "print(data.shape)"
      ],
      "metadata": {
        "colab": {
          "base_uri": "https://localhost:8080/"
        },
        "id": "MCFsqAJTKGa1",
        "outputId": "3b92d074-bdd0-4419-f351-90301b8fab7a"
      },
      "execution_count": 20,
      "outputs": [
        {
          "output_type": "stream",
          "name": "stdout",
          "text": [
            "(22646, 57)\n"
          ]
        }
      ]
    },
    {
      "cell_type": "markdown",
      "source": [
        "# **---------------Logistic Regression----------------**"
      ],
      "metadata": {
        "id": "9k75ri0wMglm"
      }
    },
    {
      "cell_type": "code",
      "source": [
        "####### Logistic Regression #########\n",
        "\n",
        "# Defining feature and target variables \n",
        "X = data.drop(columns=['Sale Price Compared To Value'])\n",
        "y = data[['Sale Price Compared To Value']]\n"
      ],
      "metadata": {
        "id": "k5QfPp1jZuIH"
      },
      "execution_count": 21,
      "outputs": []
    },
    {
      "cell_type": "code",
      "source": [
        "# Train/Test split\n",
        "from sklearn.model_selection import train_test_split\n",
        "X_train, X_test, y_train, y_test = train_test_split(X, y, test_size=0.3, random_state = 29)\n"
      ],
      "metadata": {
        "id": "VDD5Pu5T-wpH"
      },
      "execution_count": 22,
      "outputs": []
    },
    {
      "cell_type": "code",
      "source": [
        "# Getting the list of column labels\n",
        "header = []\n",
        "for col in X_train:\n",
        "    header.append(col)"
      ],
      "metadata": {
        "id": "YcFpLq7ezXjc"
      },
      "execution_count": 23,
      "outputs": []
    },
    {
      "cell_type": "code",
      "source": [
        "# Balancing the imbalanced dataset by using oversampling technique\n",
        "from imblearn.over_sampling import SMOTE\n",
        "\n",
        "sampling = SMOTE(random_state = 10) #Using SMOTE technique\n",
        "X_train, y_train = sampling.fit_resample(X_train.values, y_train.values) \n",
        "\n",
        "\n",
        "# Shuffle the data\n",
        "perms = np.random.permutation(X_train.shape[0]) \n",
        "X_train = X_train[perms]\n",
        "y_train = y_train[perms]\n",
        "\n",
        "\n",
        "# Converting it to a dataframe\n",
        "X_train = pd.DataFrame(data = X_train)\n",
        "y_train = pd.DataFrame(data = y_train)\n",
        "\n",
        "\n",
        "\n",
        "print('dataset shape after SMOTE:\\n',y_train.value_counts()) "
      ],
      "metadata": {
        "colab": {
          "base_uri": "https://localhost:8080/"
        },
        "id": "fqdnmoIkzexR",
        "outputId": "cfab4627-762d-4486-9878-2828885ebaf9"
      },
      "execution_count": 24,
      "outputs": [
        {
          "output_type": "stream",
          "name": "stdout",
          "text": [
            "dataset shape after SMOTE:\n",
            " 0    11980\n",
            "1    11980\n",
            "dtype: int64\n"
          ]
        }
      ]
    },
    {
      "cell_type": "code",
      "source": [
        "# Setting the header after SMOTE\n",
        "X_train.columns = header"
      ],
      "metadata": {
        "id": "IpnhdC_XzhjL"
      },
      "execution_count": 25,
      "outputs": []
    },
    {
      "cell_type": "code",
      "source": [
        "# Getting the summary after logistic regression\n",
        "import statsmodels.api as sm\n",
        "\n",
        "logit_model=sm.Logit(y_train, X_train)\n",
        "result=logit_model.fit()\n",
        "print(result.summary())\n"
      ],
      "metadata": {
        "colab": {
          "base_uri": "https://localhost:8080/"
        },
        "id": "9lhiDUZcof-U",
        "outputId": "4847e99f-7544-4648-e22a-a252c5ea7bec"
      },
      "execution_count": 26,
      "outputs": [
        {
          "output_type": "stream",
          "name": "stdout",
          "text": [
            "Warning: Maximum number of iterations has been exceeded.\n",
            "         Current function value: 0.589194\n",
            "         Iterations: 35\n",
            "                           Logit Regression Results                           \n",
            "==============================================================================\n",
            "Dep. Variable:                      0   No. Observations:                23960\n",
            "Model:                          Logit   Df Residuals:                    23910\n",
            "Method:                           MLE   Df Model:                           49\n",
            "Date:                Sun, 04 Dec 2022   Pseudo R-squ.:                  0.1500\n",
            "Time:                        17:17:37   Log-Likelihood:                -14117.\n",
            "converged:                      False   LL-Null:                       -16608.\n",
            "Covariance Type:            nonrobust   LLR p-value:                     0.000\n",
            "==========================================================================================================\n",
            "                                             coef    std err          z      P>|z|      [0.025      0.975]\n",
            "----------------------------------------------------------------------------------------------------------\n",
            "Sold As Vacant                             4.2732      0.491      8.700      0.000       3.311       5.236\n",
            "Multiple Parcels Involved in Sale         -0.6143      0.115     -5.323      0.000      -0.841      -0.388\n",
            "Acreage                                    0.1577      0.033      4.715      0.000       0.092       0.223\n",
            "Land Value                             -3.813e-06   2.84e-07    -13.424      0.000   -4.37e-06   -3.26e-06\n",
            "Building Value                          1.125e-06   2.14e-07      5.269      0.000    7.07e-07    1.54e-06\n",
            "Finished Area                           2.496e-05   3.95e-05      0.632      0.528   -5.25e-05       0.000\n",
            "Year Built                                -0.0007      0.001     -1.023      0.306      -0.002       0.001\n",
            "Bedrooms                                  -0.0055      0.026     -0.214      0.831      -0.056       0.045\n",
            "Full Bath                                  0.0385      0.031      1.239      0.215      -0.022       0.100\n",
            "Half Bath                                  0.0191      0.039      0.489      0.625      -0.057       0.096\n",
            "Sale_Year                                 -0.8448      0.015    -55.438      0.000      -0.875      -0.815\n",
            "Sale_Month                                -0.0915      0.005    -18.384      0.000      -0.101      -0.082\n",
            "Land Use_DUPLEX                          473.4227        nan        nan        nan         nan         nan\n",
            "Land Use_QUADPLEX                        473.5719        nan        nan        nan         nan         nan\n",
            "Land Use_RESIDENTIAL COMBO/MISC          476.5868        nan        nan        nan         nan         nan\n",
            "Land Use_SINGLE FAMILY                   473.2673        nan        nan        nan         nan         nan\n",
            "Tax District_CITY OF BELLE MEADE         275.2512    3.8e+05      0.001      0.999   -7.44e+05    7.45e+05\n",
            "Tax District_CITY OF BERRY HILL          255.0226    3.5e+05      0.001      0.999   -6.86e+05    6.87e+05\n",
            "Tax District_CITY OF FOREST HILLS        274.2134   3.64e+05      0.001      0.999   -7.13e+05    7.14e+05\n",
            "Tax District_CITY OF GOODLETTSVILLE      272.7959   3.61e+05      0.001      0.999   -7.07e+05    7.07e+05\n",
            "Tax District_CITY OF OAK HILL            273.4977   3.74e+05      0.001      0.999   -7.33e+05    7.33e+05\n",
            "Tax District_GENERAL SERVICES DISTRICT   272.8806   3.61e+05      0.001      0.999   -7.07e+05    7.07e+05\n",
            "Tax District_URBAN SERVICES DISTRICT     273.2230   3.69e+05      0.001      0.999   -7.22e+05    7.23e+05\n",
            "City_ANTIOCH                             188.9639        nan        nan        nan         nan         nan\n",
            "City_BRENTWOOD                           188.2974        nan        nan        nan         nan         nan\n",
            "City_GOODLETTSVILLE                      189.8600        nan        nan        nan         nan         nan\n",
            "City_HERMITAGE                           189.3426        nan        nan        nan         nan         nan\n",
            "City_JOELTON                             191.4427        nan        nan        nan         nan         nan\n",
            "City_MADISON                             190.6453        nan        nan        nan         nan         nan\n",
            "City_MOUNT JULIET                        188.8472        nan        nan        nan         nan         nan\n",
            "City_NASHVILLE                           189.3590        nan        nan        nan         nan         nan\n",
            "City_OLD HICKORY                         190.1760        nan        nan        nan         nan         nan\n",
            "City_WHITES CREEK                        189.9467        nan        nan        nan         nan         nan\n",
            "Foundation Type_CRAWL                    304.1584        nan        nan        nan         nan         nan\n",
            "Foundation Type_FULL BSMT                304.2514        nan        nan        nan         nan         nan\n",
            "Foundation Type_PIERS                    302.8156        nan        nan        nan         nan         nan\n",
            "Foundation Type_PT BSMT                  304.0382        nan        nan        nan         nan         nan\n",
            "Foundation Type_SLAB                     304.1428        nan        nan        nan         nan         nan\n",
            "Foundation Type_TYPICAL                  377.5038        nan        nan        nan         nan         nan\n",
            "Exterior Wall_BRICK                      210.8698        nan        nan        nan         nan         nan\n",
            "Exterior Wall_BRICK/FRAME                210.8106        nan        nan        nan         nan         nan\n",
            "Exterior Wall_CONC BLK                   211.0413        nan        nan        nan         nan         nan\n",
            "Exterior Wall_FRAME                      210.7849        nan        nan        nan         nan         nan\n",
            "Exterior Wall_FRAME/STONE                210.8567        nan        nan        nan         nan         nan\n",
            "Exterior Wall_LOG                        210.3805        nan        nan        nan         nan         nan\n",
            "Exterior Wall_METAL                      210.8223        nan        nan        nan         nan         nan\n",
            "Exterior Wall_STONE                      211.0159        nan        nan        nan         nan         nan\n",
            "Exterior Wall_STUCCO                     210.2531        nan        nan        nan         nan         nan\n",
            "Grade_A                                  253.3439   6.69e+05      0.000      1.000   -1.31e+06    1.31e+06\n",
            "Grade_B                                  252.8753   6.69e+05      0.000      1.000   -1.31e+06    1.31e+06\n",
            "Grade_C                                  252.6128   6.69e+05      0.000      1.000   -1.31e+06    1.31e+06\n",
            "Grade_D                                  253.0166   6.69e+05      0.000      1.000   -1.31e+06    1.31e+06\n",
            "Grade_E                                  254.3164   6.69e+05      0.000      1.000   -1.31e+06    1.31e+06\n",
            "Grade_OFB                                153.3781        nan        nan        nan         nan         nan\n",
            "Grade_SSC                                224.1190        nan        nan        nan         nan         nan\n",
            "Grade_X                                  253.2092   6.69e+05      0.000      1.000   -1.31e+06    1.31e+06\n",
            "==========================================================================================================\n"
          ]
        },
        {
          "output_type": "stream",
          "name": "stderr",
          "text": [
            "/usr/local/lib/python3.8/dist-packages/statsmodels/base/model.py:566: ConvergenceWarning: Maximum Likelihood optimization failed to converge. Check mle_retvals\n",
            "  warnings.warn(\"Maximum Likelihood optimization failed to \"\n"
          ]
        }
      ]
    },
    {
      "cell_type": "code",
      "source": [
        "from sklearn.linear_model import LogisticRegression\n",
        "from sklearn import metrics\n",
        "\n",
        "logreg = LogisticRegression()\n",
        "logreg.fit(X_train, y_train)"
      ],
      "metadata": {
        "colab": {
          "base_uri": "https://localhost:8080/"
        },
        "id": "w0nbFCtrttQH",
        "outputId": "b47f2b03-2b8c-45f7-81d8-4932a052c3fa"
      },
      "execution_count": 27,
      "outputs": [
        {
          "output_type": "execute_result",
          "data": {
            "text/plain": [
              "LogisticRegression()"
            ]
          },
          "metadata": {},
          "execution_count": 27
        }
      ]
    },
    {
      "cell_type": "code",
      "source": [
        "#Predicting the test set results and calculating the accuracy\n",
        "\n",
        "y_pred = logreg.predict(X_test)\n",
        "print('Accuracy of logistic regression classifier on test set: {:.2f}'.format(logreg.score(X_test, y_test)))"
      ],
      "metadata": {
        "colab": {
          "base_uri": "https://localhost:8080/"
        },
        "id": "tk8hUVJYlWVp",
        "outputId": "1bc24980-120b-4e54-cc0e-1d88e27cbb29"
      },
      "execution_count": 28,
      "outputs": [
        {
          "output_type": "stream",
          "name": "stdout",
          "text": [
            "Accuracy of logistic regression classifier on test set: 0.63\n"
          ]
        }
      ]
    },
    {
      "cell_type": "code",
      "source": [
        "# Confusion Matrix\n",
        "\n",
        "from sklearn.metrics import confusion_matrix\n",
        "\n",
        "confusion_matrix = confusion_matrix(y_test, y_pred)\n",
        "print(confusion_matrix)"
      ],
      "metadata": {
        "colab": {
          "base_uri": "https://localhost:8080/"
        },
        "id": "huh9jjaOC0RN",
        "outputId": "89271869-5665-4765-f272-75f640892698"
      },
      "execution_count": 29,
      "outputs": [
        {
          "output_type": "stream",
          "name": "stdout",
          "text": [
            "[[3639 1427]\n",
            " [1082  646]]\n"
          ]
        }
      ]
    },
    {
      "cell_type": "code",
      "source": [
        "# Compute precision, recall, F-measure and support\n",
        "\n",
        "from sklearn.metrics import classification_report\n",
        "print(classification_report(y_test, y_pred))\n"
      ],
      "metadata": {
        "id": "Q7rmQr6gAPB9",
        "colab": {
          "base_uri": "https://localhost:8080/"
        },
        "outputId": "2dad4875-37f8-434b-a4da-17da074069d9"
      },
      "execution_count": 30,
      "outputs": [
        {
          "output_type": "stream",
          "name": "stdout",
          "text": [
            "              precision    recall  f1-score   support\n",
            "\n",
            "           0       0.77      0.72      0.74      5066\n",
            "           1       0.31      0.37      0.34      1728\n",
            "\n",
            "    accuracy                           0.63      6794\n",
            "   macro avg       0.54      0.55      0.54      6794\n",
            "weighted avg       0.65      0.63      0.64      6794\n",
            "\n"
          ]
        }
      ]
    },
    {
      "cell_type": "markdown",
      "source": [
        "# **---------------Decision Tree----------------**\n"
      ],
      "metadata": {
        "id": "fZCBhxOMMxZM"
      }
    },
    {
      "cell_type": "code",
      "source": [
        "############# Decision Tree \n"
      ],
      "metadata": {
        "id": "hu11Wr3tM01q"
      },
      "execution_count": 31,
      "outputs": []
    },
    {
      "cell_type": "code",
      "source": [
        "from sklearn import tree\n",
        "from sklearn.tree import DecisionTreeClassifier \n",
        "from sklearn.model_selection import train_test_split, GridSearchCV \n",
        "from sklearn.model_selection import RandomizedSearchCV\n",
        "from scipy.stats import randint\n",
        "from sklearn.tree import plot_tree\n",
        "import matplotlib.pyplot as plt\n",
        "\n",
        "from sklearn.tree import DecisionTreeClassifier\n",
        "\n",
        "clf = DecisionTreeClassifier(criterion = 'gini', random_state=42,max_depth=4, min_samples_leaf=5)   \n",
        "clf = clf.fit(X_train,y_train)\n",
        "\n"
      ],
      "metadata": {
        "id": "w9T6ApmeNcg8"
      },
      "execution_count": 32,
      "outputs": []
    },
    {
      "cell_type": "code",
      "source": [
        "class_names = ['Over', 'Under']\n",
        "feat_importance = pd.DataFrame({'feature':X_train.columns,'importance':np.round(clf.feature_importances_,3)})\n",
        "clf.tree_.compute_feature_importances(normalize=False)\n",
        "print(feat_importance.sort_values(by='importance', ascending=False))\n",
        "fig = plt.figure(figsize=(20,10))\n",
        "_ = tree.plot_tree(clf, feature_names = feat_importance['feature'], filled = True, rounded=True, class_names=class_names, fontsize = 8)\n"
      ],
      "metadata": {
        "id": "Cpwx9BnXTEbF",
        "colab": {
          "base_uri": "https://localhost:8080/",
          "height": 1000
        },
        "outputId": "78f3bab0-0d68-409e-fbbc-b0b20534aaa7"
      },
      "execution_count": 33,
      "outputs": [
        {
          "output_type": "stream",
          "name": "stdout",
          "text": [
            "                                   feature  importance\n",
            "10                               Sale_Year       0.944\n",
            "6                               Year Built       0.050\n",
            "3                               Land Value       0.003\n",
            "28                            City_MADISON       0.002\n",
            "5                            Finished Area       0.001\n",
            "41                  Exterior Wall_CONC BLK       0.000\n",
            "40               Exterior Wall_BRICK/FRAME       0.000\n",
            "39                     Exterior Wall_BRICK       0.000\n",
            "38                 Foundation Type_TYPICAL       0.000\n",
            "37                    Foundation Type_SLAB       0.000\n",
            "35                   Foundation Type_PIERS       0.000\n",
            "36                 Foundation Type_PT BSMT       0.000\n",
            "43               Exterior Wall_FRAME/STONE       0.000\n",
            "34               Foundation Type_FULL BSMT       0.000\n",
            "33                   Foundation Type_CRAWL       0.000\n",
            "32                       City_WHITES CREEK       0.000\n",
            "42                     Exterior Wall_FRAME       0.000\n",
            "45                     Exterior Wall_METAL       0.000\n",
            "44                       Exterior Wall_LOG       0.000\n",
            "30                          City_NASHVILLE       0.000\n",
            "46                     Exterior Wall_STONE       0.000\n",
            "47                    Exterior Wall_STUCCO       0.000\n",
            "48                              Grade_A          0.000\n",
            "49                              Grade_B          0.000\n",
            "50                              Grade_C          0.000\n",
            "51                              Grade_D          0.000\n",
            "52                              Grade_E          0.000\n",
            "53                              Grade_OFB        0.000\n",
            "54                              Grade_SSC        0.000\n",
            "31                        City_OLD HICKORY       0.000\n",
            "0                           Sold As Vacant       0.000\n",
            "29                       City_MOUNT JULIET       0.000\n",
            "16        Tax District_CITY OF BELLE MEADE       0.000\n",
            "2                                  Acreage       0.000\n",
            "4                           Building Value       0.000\n",
            "7                                 Bedrooms       0.000\n",
            "8                                Full Bath       0.000\n",
            "9                                Half Bath       0.000\n",
            "11                              Sale_Month       0.000\n",
            "12                         Land Use_DUPLEX       0.000\n",
            "13                       Land Use_QUADPLEX       0.000\n",
            "14         Land Use_RESIDENTIAL COMBO/MISC       0.000\n",
            "15                  Land Use_SINGLE FAMILY       0.000\n",
            "17         Tax District_CITY OF BERRY HILL       0.000\n",
            "1        Multiple Parcels Involved in Sale       0.000\n",
            "18       Tax District_CITY OF FOREST HILLS       0.000\n",
            "19     Tax District_CITY OF GOODLETTSVILLE       0.000\n",
            "20           Tax District_CITY OF OAK HILL       0.000\n",
            "21  Tax District_GENERAL SERVICES DISTRICT       0.000\n",
            "22    Tax District_URBAN SERVICES DISTRICT       0.000\n",
            "23                            City_ANTIOCH       0.000\n",
            "24                          City_BRENTWOOD       0.000\n",
            "25                     City_GOODLETTSVILLE       0.000\n",
            "26                          City_HERMITAGE       0.000\n",
            "27                            City_JOELTON       0.000\n",
            "55                              Grade_X          0.000\n"
          ]
        },
        {
          "output_type": "display_data",
          "data": {
            "text/plain": [
              "<Figure size 1440x720 with 1 Axes>"
            ],
            "image/png": "[encoded data removed]"
          },
          "metadata": {
            "needs_background": "light"
          }
        }
      ]
    },
    {
      "cell_type": "code",
      "source": [
        "#Accuracy\n",
        "\n",
        "y_predict = clf.predict(X_test)\n",
        "from sklearn.metrics import accuracy_score,classification_report,confusion_matrix\n",
        "accuracy_score(y_test,y_predict)"
      ],
      "metadata": {
        "colab": {
          "base_uri": "https://localhost:8080/"
        },
        "id": "C3hqWDXlSfcw",
        "outputId": "ea2f0ae5-8d4c-4e58-94d0-6b0f7f500c36"
      },
      "execution_count": 34,
      "outputs": [
        {
          "output_type": "execute_result",
          "data": {
            "text/plain": [
              "0.744333235207536"
            ]
          },
          "metadata": {},
          "execution_count": 34
        }
      ]
    },
    {
      "cell_type": "code",
      "source": [
        "from sklearn.metrics import classification_report, confusion_matrix\n",
        "print(confusion_matrix(y_test, y_predict))\n",
        "print(classification_report(y_test, y_predict))"
      ],
      "metadata": {
        "colab": {
          "base_uri": "https://localhost:8080/"
        },
        "id": "23RaO1_zgeHh",
        "outputId": "ad304d49-6b8e-4869-cacf-665ebf7da28d"
      },
      "execution_count": 35,
      "outputs": [
        {
          "output_type": "stream",
          "name": "stdout",
          "text": [
            "[[4274  792]\n",
            " [ 945  783]]\n",
            "              precision    recall  f1-score   support\n",
            "\n",
            "           0       0.82      0.84      0.83      5066\n",
            "           1       0.50      0.45      0.47      1728\n",
            "\n",
            "    accuracy                           0.74      6794\n",
            "   macro avg       0.66      0.65      0.65      6794\n",
            "weighted avg       0.74      0.74      0.74      6794\n",
            "\n"
          ]
        }
      ]
    },
    {
      "cell_type": "code",
      "source": [
        "#Feature Importance\n",
        "importances = clf.feature_importances_\n",
        "\n",
        "indices = np.argsort(importances)\n",
        "\n",
        "fig, ax = plt.subplots()\n",
        "fig.set_size_inches(18.5, 10.5)\n",
        "ax.barh(range(len(importances)), importances[indices])\n",
        "ax.set_yticks(range(len(importances)))\n",
        "_ = ax.set_yticklabels(np.array(X_train.columns)[indices])"
      ],
      "metadata": {
        "colab": {
          "base_uri": "https://localhost:8080/",
          "height": 619
        },
        "id": "vcqIHfNqgl7O",
        "outputId": "aee56cd7-e4ac-44ad-ff23-87a457fd960a"
      },
      "execution_count": 36,
      "outputs": [
        {
          "output_type": "display_data",
          "data": {
            "text/plain": [
              "<Figure size 1332x756 with 1 Axes>"
            ],
            "image/png": "[encoded data removed]"
          },
          "metadata": {
            "needs_background": "light"
          }
        }
      ]
    },
    {
      "cell_type": "markdown",
      "source": [
        "# **---------------Random Forest----------------**"
      ],
      "metadata": {
        "id": "gzFdm9PwIuAL"
      }
    },
    {
      "cell_type": "code",
      "source": [
        "############### Random Forest ##############3"
      ],
      "metadata": {
        "id": "TQcElel-hXt7"
      },
      "execution_count": 37,
      "outputs": []
    },
    {
      "cell_type": "code",
      "source": [
        "from sklearn.ensemble import RandomForestClassifier\n",
        "rf_model = RandomForestClassifier(random_state=25,max_depth=4)   \n",
        "rf_model.fit(X_train,y_train)"
      ],
      "metadata": {
        "colab": {
          "base_uri": "https://localhost:8080/"
        },
        "id": "hVLXZUjVhW2X",
        "outputId": "8439f66a-40d0-4189-cbf6-c9e159bf1132"
      },
      "execution_count": 38,
      "outputs": [
        {
          "output_type": "execute_result",
          "data": {
            "text/plain": [
              "RandomForestClassifier(max_depth=4, random_state=25)"
            ]
          },
          "metadata": {},
          "execution_count": 38
        }
      ]
    },
    {
      "cell_type": "code",
      "source": [
        "#Accuracy\n",
        "\n",
        "zrf_predict = rf_model.predict(X_test)\n",
        "from sklearn.metrics import accuracy_score,classification_report,confusion_matrix\n",
        "accuracy_score(y_test,zrf_predict)"
      ],
      "metadata": {
        "colab": {
          "base_uri": "https://localhost:8080/"
        },
        "id": "PRQfgMUYhfpV",
        "outputId": "8c361340-223c-47e3-8993-e7a5a6a0f77e"
      },
      "execution_count": 39,
      "outputs": [
        {
          "output_type": "execute_result",
          "data": {
            "text/plain": [
              "0.7287312334412717"
            ]
          },
          "metadata": {},
          "execution_count": 39
        }
      ]
    },
    {
      "cell_type": "code",
      "source": [
        "#Confusion Matrix\n",
        "\n",
        "from sklearn.metrics import classification_report, confusion_matrix\n",
        "print(confusion_matrix(y_test, zrf_predict))\n",
        "print(classification_report(y_test, zrf_predict))"
      ],
      "metadata": {
        "colab": {
          "base_uri": "https://localhost:8080/"
        },
        "id": "vtrK4gxbhlKb",
        "outputId": "1fb6a790-0fd6-4e67-e898-1a480bd4e4c7"
      },
      "execution_count": 40,
      "outputs": [
        {
          "output_type": "stream",
          "name": "stdout",
          "text": [
            "[[4446  620]\n",
            " [1223  505]]\n",
            "              precision    recall  f1-score   support\n",
            "\n",
            "           0       0.78      0.88      0.83      5066\n",
            "           1       0.45      0.29      0.35      1728\n",
            "\n",
            "    accuracy                           0.73      6794\n",
            "   macro avg       0.62      0.58      0.59      6794\n",
            "weighted avg       0.70      0.73      0.71      6794\n",
            "\n"
          ]
        }
      ]
    },
    {
      "cell_type": "code",
      "source": [
        "#Feature Importance\n",
        "importances = rf_model.feature_importances_\n",
        "\n",
        "indices = np.argsort(importances)\n",
        "\n",
        "fig, ax = plt.subplots()\n",
        "fig.set_size_inches(18.5, 10.5)\n",
        "ax.barh(range(len(importances)), importances[indices])\n",
        "ax.set_yticks(range(len(importances)))\n",
        "_ = ax.set_yticklabels(np.array(X_train.columns)[indices])"
      ],
      "metadata": {
        "colab": {
          "base_uri": "https://localhost:8080/",
          "height": 619
        },
        "id": "U6T4bGu4hoLo",
        "outputId": "6fe41f21-f321-4a76-e209-428209b14974"
      },
      "execution_count": 41,
      "outputs": [
        {
          "output_type": "display_data",
          "data": {
            "text/plain": [
              "<Figure size 1332x756 with 1 Axes>"
            ],
            "image/png": "[encoded data removed]"
          },
          "metadata": {
            "needs_background": "light"
          }
        }
      ]
    },
    {
      "cell_type": "markdown",
      "source": [
        "# **---------------Gradient Boost----------------**"
      ],
      "metadata": {
        "id": "TrO5kJ5aIx5O"
      }
    },
    {
      "cell_type": "code",
      "source": [
        "########### Gradient Boosting"
      ],
      "metadata": {
        "id": "9OTNvldFh9oa"
      },
      "execution_count": 42,
      "outputs": []
    },
    {
      "cell_type": "code",
      "source": [
        "from sklearn.ensemble import GradientBoostingClassifier\n",
        "gb_model = GradientBoostingClassifier(random_state=25,max_depth=4)   \n",
        "gb_model.fit(X_train,y_train)"
      ],
      "metadata": {
        "colab": {
          "base_uri": "https://localhost:8080/"
        },
        "id": "szBgPFSsiEND",
        "outputId": "3342811a-687b-48c5-d9e2-f47ed2d5e8b0"
      },
      "execution_count": 43,
      "outputs": [
        {
          "output_type": "execute_result",
          "data": {
            "text/plain": [
              "GradientBoostingClassifier(max_depth=4, random_state=25)"
            ]
          },
          "metadata": {},
          "execution_count": 43
        }
      ]
    },
    {
      "cell_type": "code",
      "source": [
        "#Accuracy\n",
        "\n",
        "zgb_predict = gb_model.predict(X_test)\n",
        "from sklearn.metrics import accuracy_score,classification_report,confusion_matrix\n",
        "accuracy_score(y_test,zgb_predict)"
      ],
      "metadata": {
        "colab": {
          "base_uri": "https://localhost:8080/"
        },
        "id": "h-1Hct6Nii_M",
        "outputId": "433dc789-02a3-4078-c0da-00e0638e6930"
      },
      "execution_count": 44,
      "outputs": [
        {
          "output_type": "execute_result",
          "data": {
            "text/plain": [
              "0.7774506917868708"
            ]
          },
          "metadata": {},
          "execution_count": 44
        }
      ]
    },
    {
      "cell_type": "code",
      "source": [
        "#Confusion Matrix\n",
        "\n",
        "from sklearn.metrics import classification_report, confusion_matrix\n",
        "print(confusion_matrix(y_test, zgb_predict))\n",
        "print(classification_report(y_test, zgb_predict))"
      ],
      "metadata": {
        "colab": {
          "base_uri": "https://localhost:8080/"
        },
        "id": "dychh0bxiuO_",
        "outputId": "7a428e81-8eee-4e0f-b4aa-b99422367793"
      },
      "execution_count": 45,
      "outputs": [
        {
          "output_type": "stream",
          "name": "stdout",
          "text": [
            "[[4753  313]\n",
            " [1199  529]]\n",
            "              precision    recall  f1-score   support\n",
            "\n",
            "           0       0.80      0.94      0.86      5066\n",
            "           1       0.63      0.31      0.41      1728\n",
            "\n",
            "    accuracy                           0.78      6794\n",
            "   macro avg       0.71      0.62      0.64      6794\n",
            "weighted avg       0.76      0.78      0.75      6794\n",
            "\n"
          ]
        }
      ]
    }
  ]
}